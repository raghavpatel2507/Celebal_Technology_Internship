{
  "nbformat": 4,
  "nbformat_minor": 0,
  "metadata": {
    "colab": {
      "provenance": []
    },
    "kernelspec": {
      "name": "python3",
      "display_name": "Python 3"
    },
    "language_info": {
      "name": "python"
    }
  },
  "cells": [
    {
      "cell_type": "markdown",
      "source": [
        "Create lower triangular, upper triangular and pyramid containing the \"*\" character."
      ],
      "metadata": {
        "id": "R48uPMAPqOIw"
      }
    },
    {
      "cell_type": "code",
      "execution_count": 2,
      "metadata": {
        "colab": {
          "base_uri": "https://localhost:8080/"
        },
        "id": "Eg_bfCfup-At",
        "outputId": "74c88925-8a26-4709-8050-f486ac855b61"
      },
      "outputs": [
        {
          "output_type": "stream",
          "name": "stdout",
          "text": [
            "* \n",
            "* * \n",
            "* * * \n",
            "* * * * \n",
            "* * * * * \n"
          ]
        }
      ],
      "source": [
        "#Lower Triangular Pattern:\n",
        "def lower_triangular(rows):\n",
        "    for i in range(1, rows + 1):\n",
        "        print('* ' * i)\n",
        "\n",
        "lower_triangular(5)\n"
      ]
    },
    {
      "cell_type": "code",
      "source": [
        "#Upper Triangular Pattern:\n",
        "def upper_triangular(rows):\n",
        "    for i in range(rows, 0, -1):\n",
        "        print('* ' * i)\n",
        "\n",
        "upper_triangular(5)\n"
      ],
      "metadata": {
        "colab": {
          "base_uri": "https://localhost:8080/"
        },
        "id": "YNpYv8I8qifB",
        "outputId": "60c78362-f47a-46b9-94d9-83a22b6f441e"
      },
      "execution_count": 3,
      "outputs": [
        {
          "output_type": "stream",
          "name": "stdout",
          "text": [
            "* * * * * \n",
            "* * * * \n",
            "* * * \n",
            "* * \n",
            "* \n"
          ]
        }
      ]
    },
    {
      "cell_type": "code",
      "source": [
        "#Pyramid Pattern:\n",
        "def pyramid(rows):\n",
        "    for i in range(1, rows + 1):\n",
        "        print(' ' * (rows - i) + '* ' * i)\n",
        "\n",
        "pyramid(5)\n"
      ],
      "metadata": {
        "colab": {
          "base_uri": "https://localhost:8080/"
        },
        "id": "lu2fjg7JqpDu",
        "outputId": "5ed0d698-108e-473a-cb33-43d740153ea1"
      },
      "execution_count": 5,
      "outputs": [
        {
          "output_type": "stream",
          "name": "stdout",
          "text": [
            "    * \n",
            "   * * \n",
            "  * * * \n",
            " * * * * \n",
            "* * * * * \n"
          ]
        }
      ]
    },
    {
      "cell_type": "code",
      "source": [],
      "metadata": {
        "id": "ZyBCK8J8qryQ"
      },
      "execution_count": null,
      "outputs": []
    }
  ]
}